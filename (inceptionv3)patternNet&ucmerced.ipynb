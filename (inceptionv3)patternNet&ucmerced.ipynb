{
  "nbformat": 4,
  "nbformat_minor": 0,
  "metadata": {
    "colab": {
      "provenance": [],
      "gpuType": "T4",
      "authorship_tag": "ABX9TyOMWEM474d/3Vo0uaIP89LK",
      "include_colab_link": true
    },
    "kernelspec": {
      "name": "python3",
      "display_name": "Python 3"
    },
    "language_info": {
      "name": "python"
    },
    "accelerator": "GPU"
  },
  "cells": [
    {
      "cell_type": "markdown",
      "metadata": {
        "id": "view-in-github",
        "colab_type": "text"
      },
      "source": [
        "<a href=\"https://colab.research.google.com/github/AnuragSingh7292/Remote-sensing-image-retrieval-deep-learning-/blob/main/(inceptionv3)patternNet%26ucmerced.ipynb\" target=\"_parent\"><img src=\"https://colab.research.google.com/assets/colab-badge.svg\" alt=\"Open In Colab\"/></a>"
      ]
    },
    {
      "cell_type": "code",
      "execution_count": null,
      "metadata": {
        "colab": {
          "base_uri": "https://localhost:8080/"
        },
        "id": "IQE3b5uFye9Z",
        "outputId": "549c2877-b65d-4bd8-8082-f5783978785d"
      },
      "outputs": [
        {
          "output_type": "stream",
          "name": "stdout",
          "text": [
            "Mounted at /content/drive\n"
          ]
        }
      ],
      "source": [
        "from google.colab import drive\n",
        "\n",
        "# Mount Google Drive\n",
        "drive.mount('/content/drive')\n",
        "\n",
        "# After running, follow the authentication steps"
      ]
    },
    {
      "cell_type": "code",
      "source": [
        "import zipfile\n",
        "import os\n",
        "\n",
        "# Define the paths\n",
        "zip_path = \"/content/drive/MyDrive/PatternNet.zip\"  # Update with your actual file path\n",
        "extract_path = \"/content/PatternNetnew2\"  # Temporary extraction path\n",
        "\n",
        "# Extract the ZIP file\n",
        "with zipfile.ZipFile(zip_path, 'r') as zip_ref:\n",
        "    zip_ref.extractall(extract_path)\n",
        "\n",
        "# Verify extraction\n",
        "print(\"Extracted categories:\", os.listdir(extract_path))  # Should list 21 folders\n"
      ],
      "metadata": {
        "id": "lnTD2RTAzmcO",
        "colab": {
          "base_uri": "https://localhost:8080/"
        },
        "outputId": "ce2a6415-daa4-454a-c65a-e9255467a62e"
      },
      "execution_count": null,
      "outputs": [
        {
          "output_type": "stream",
          "name": "stdout",
          "text": [
            "Extracted categories: ['PatternNet']\n"
          ]
        }
      ]
    },
    {
      "cell_type": "markdown",
      "source": [
        "pattern Net (inceptionv3)"
      ],
      "metadata": {
        "id": "L1hGmfdg7F0P"
      }
    },
    {
      "cell_type": "code",
      "source": [
        "import os\n",
        "import numpy as np\n",
        "import tensorflow as tf\n",
        "from tensorflow.keras.applications import InceptionV3\n",
        "from tensorflow.keras.preprocessing import image\n",
        "from tensorflow.keras.applications.inception_v3 import preprocess_input\n",
        "from sklearn.decomposition import PCA\n",
        "\n",
        "# Dataset path\n",
        "dataset_path = \"/content/PatternNetnew2/PatternNet/images\"\n",
        "save_dir = \"/content/drive/MyDrive/inception_Feature_Vectors_patternNet\"\n",
        "os.makedirs(save_dir, exist_ok=True)\n",
        "\n",
        "# Load InceptionV3 model with pre-trained weights\n",
        "base_model_inception = InceptionV3(weights='imagenet', include_top=True)\n",
        "\n",
        "# Find the GlobalAveragePooling2D layer dynamically\n",
        "global_avg_pool_layer = None\n",
        "for layer in base_model_inception.layers:\n",
        "    if isinstance(layer, tf.keras.layers.GlobalAveragePooling2D):\n",
        "        global_avg_pool_layer = layer\n",
        "        break\n",
        "\n",
        "if global_avg_pool_layer is None:\n",
        "    raise ValueError(\"GlobalAveragePooling2D layer not found in the InceptionV3 model.\")\n",
        "\n",
        "# Build model to output from the GlobalAveragePooling2D layer\n",
        "fc6_layer_inception = tf.keras.Model(inputs=base_model_inception.input,\n",
        "                                     outputs=global_avg_pool_layer.output)\n",
        "\n",
        "# Feature extraction function\n",
        "def extract_features(model, img_path, target_size=(299, 299)):\n",
        "    img = image.load_img(img_path, target_size=target_size)\n",
        "    img_array = image.img_to_array(img)\n",
        "    img_array = np.expand_dims(img_array, axis=0)\n",
        "    img_array = preprocess_input(img_array)\n",
        "    features = model.predict(img_array, verbose=0)\n",
        "    return features.flatten()\n",
        "\n",
        "# Storage lists\n",
        "fc6_features_inception, labels = [], []\n",
        "\n",
        "# Read images and extract features\n",
        "categories = sorted(os.listdir(dataset_path))\n",
        "for idx, category in enumerate(categories):\n",
        "    category_path = os.path.join(dataset_path, category)\n",
        "    if os.path.isdir(category_path):\n",
        "        for img_file in os.listdir(category_path):\n",
        "            if img_file.lower().endswith(('.jpg', '.png', '.tif')):\n",
        "                img_path = os.path.join(category_path, img_file)\n",
        "                fc6_feat = extract_features(fc6_layer_inception, img_path)\n",
        "                fc6_features_inception.append(fc6_feat)\n",
        "                labels.append(idx)\n",
        "\n",
        "# Convert lists to arrays\n",
        "fc6_features_inception = np.array(fc6_features_inception)\n",
        "\n",
        "# Save raw extracted features\n",
        "np.save(os.path.join(save_dir, \"inceptionv3_fc6_patternNet_features.npy\"), fc6_features_inception)\n",
        "\n",
        "# Apply PCA to reduce dimensions\n",
        "pca_fc6_inception = PCA(n_components=32)\n",
        "fc6_reduced_inception = pca_fc6_inception.fit_transform(fc6_features_inception)\n",
        "\n",
        "# Save reduced features\n",
        "np.save(os.path.join(save_dir, \"inceptionv3_fc6_32_patternNet_features.npy\"), fc6_reduced_inception)\n",
        "np.save(os.path.join(save_dir, \"labelspatternNet.npy\"), labels)\n",
        "\n",
        "print(\"✅ Features extracted and saved successfully for InceptionV3! (Shape: (2100, 32))\")\n"
      ],
      "metadata": {
        "id": "T1TH_WKu6CQg",
        "colab": {
          "base_uri": "https://localhost:8080/"
        },
        "outputId": "194b1909-d255-41e3-c42f-9ac995bf92d2"
      },
      "execution_count": null,
      "outputs": [
        {
          "output_type": "stream",
          "name": "stdout",
          "text": [
            "Downloading data from https://storage.googleapis.com/tensorflow/keras-applications/inception_v3/inception_v3_weights_tf_dim_ordering_tf_kernels.h5\n",
            "\u001b[1m96112376/96112376\u001b[0m \u001b[32m━━━━━━━━━━━━━━━━━━━━\u001b[0m\u001b[37m\u001b[0m \u001b[1m0s\u001b[0m 0us/step\n",
            "✅ Features extracted and saved successfully for InceptionV3! (Shape: (2100, 32))\n"
          ]
        }
      ]
    },
    {
      "cell_type": "markdown",
      "source": [],
      "metadata": {
        "id": "1poc_z787fra"
      }
    },
    {
      "cell_type": "code",
      "source": [
        "import zipfile\n",
        "import os\n",
        "\n",
        "# Define the paths\n",
        "zip_path = \"/content/drive/MyDrive/UCMerced_LandUse.zip\"  # Update with your actual file path\n",
        "extract_path = \"/content/UCMerced_Land1\"  # Temporary extraction path\n",
        "\n",
        "# Extract the ZIP file\n",
        "with zipfile.ZipFile(zip_path, 'r') as zip_ref:\n",
        "    zip_ref.extractall(extract_path)\n",
        "\n",
        "# Verify extraction\n",
        "print(\"Extracted categories:\", os.listdir(extract_path))  # Should list 21 folders\n"
      ],
      "metadata": {
        "colab": {
          "base_uri": "https://localhost:8080/"
        },
        "id": "k4RVNyFI7gF-",
        "outputId": "f7f04b31-5cd9-48c2-ced6-f14b11fe4d67"
      },
      "execution_count": null,
      "outputs": [
        {
          "output_type": "stream",
          "name": "stdout",
          "text": [
            "Extracted categories: ['UCMerced_LandUse']\n"
          ]
        }
      ]
    },
    {
      "cell_type": "markdown",
      "source": [
        "ucmreced"
      ],
      "metadata": {
        "id": "Tw8L3EZE89iH"
      }
    },
    {
      "cell_type": "code",
      "source": [
        "import os\n",
        "import numpy as np\n",
        "import tensorflow as tf\n",
        "from tensorflow.keras.applications import InceptionV3\n",
        "from tensorflow.keras.preprocessing import image\n",
        "from tensorflow.keras.applications.inception_v3 import preprocess_input\n",
        "from sklearn.decomposition import PCA\n",
        "\n",
        "# Dataset path\n",
        "dataset_path = \"/content/UCMerced_Land1/UCMerced_LandUse/Images\"\n",
        "save_dir = \"/content/drive/MyDrive/inception_Feature_Vectors_patternNet\"\n",
        "os.makedirs(save_dir, exist_ok=True)\n",
        "\n",
        "# Load InceptionV3 model with pre-trained weights\n",
        "base_model_inception = InceptionV3(weights='imagenet', include_top=True)\n",
        "\n",
        "# Find the GlobalAveragePooling2D layer dynamically\n",
        "global_avg_pool_layer = None\n",
        "for layer in base_model_inception.layers:\n",
        "    if isinstance(layer, tf.keras.layers.GlobalAveragePooling2D):\n",
        "        global_avg_pool_layer = layer\n",
        "        break\n",
        "\n",
        "if global_avg_pool_layer is None:\n",
        "    raise ValueError(\"GlobalAveragePooling2D layer not found in the InceptionV3 model.\")\n",
        "\n",
        "# Build model to output from the GlobalAveragePooling2D layer\n",
        "fc6_layer_inception = tf.keras.Model(inputs=base_model_inception.input,\n",
        "                                     outputs=global_avg_pool_layer.output)\n",
        "\n",
        "# Feature extraction function\n",
        "def extract_features(model, img_path, target_size=(299, 299)):\n",
        "    img = image.load_img(img_path, target_size=target_size)\n",
        "    img_array = image.img_to_array(img)\n",
        "    img_array = np.expand_dims(img_array, axis=0)\n",
        "    img_array = preprocess_input(img_array)\n",
        "    features = model.predict(img_array, verbose=0)\n",
        "    return features.flatten()\n",
        "\n",
        "# Storage lists\n",
        "fc6_features_inception, labels = [], []\n",
        "\n",
        "# Read images and extract features\n",
        "categories = sorted(os.listdir(dataset_path))\n",
        "for idx, category in enumerate(categories):\n",
        "    category_path = os.path.join(dataset_path, category)\n",
        "    if os.path.isdir(category_path):\n",
        "        for img_file in os.listdir(category_path):\n",
        "            if img_file.lower().endswith(('.jpg', '.png', '.tif')):\n",
        "                img_path = os.path.join(category_path, img_file)\n",
        "                fc6_feat = extract_features(fc6_layer_inception, img_path)\n",
        "                fc6_features_inception.append(fc6_feat)\n",
        "                labels.append(idx)\n",
        "\n",
        "# Convert lists to arrays\n",
        "fc6_features_inception = np.array(fc6_features_inception)\n",
        "\n",
        "# Save raw extracted features\n",
        "np.save(os.path.join(save_dir, \"inceptionv3_fc6_ucmerced_features.npy\"), fc6_features_inception)\n",
        "\n",
        "# Apply PCA to reduce dimensions\n",
        "pca_fc6_inception = PCA(n_components=32)\n",
        "fc6_reduced_inception = pca_fc6_inception.fit_transform(fc6_features_inception)\n",
        "\n",
        "# Save reduced features\n",
        "np.save(os.path.join(save_dir, \"inceptionv3_fc6_32_ucmerced_features.npy\"), fc6_reduced_inception)\n",
        "np.save(os.path.join(save_dir, \"labelsucmerced.npy\"), labels)\n",
        "\n",
        "print(\"✅ Features extracted and saved successfully for InceptionV3! (Shape: (2100, 32))\")\n"
      ],
      "metadata": {
        "id": "BViqDV5B7i_-",
        "colab": {
          "base_uri": "https://localhost:8080/"
        },
        "outputId": "10ab51d7-a761-433f-cc3a-dc9833c391c4"
      },
      "execution_count": null,
      "outputs": [
        {
          "output_type": "stream",
          "name": "stdout",
          "text": [
            "✅ Features extracted and saved successfully for InceptionV3! (Shape: (2100, 32))\n"
          ]
        }
      ]
    }
  ]
}