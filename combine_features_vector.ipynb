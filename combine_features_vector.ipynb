{
  "nbformat": 4,
  "nbformat_minor": 0,
  "metadata": {
    "colab": {
      "provenance": [],
      "authorship_tag": "ABX9TyP3VR9rn7bS8LPfVaCAfkNj",
      "include_colab_link": true
    },
    "kernelspec": {
      "name": "python3",
      "display_name": "Python 3"
    },
    "language_info": {
      "name": "python"
    }
  },
  "cells": [
    {
      "cell_type": "markdown",
      "metadata": {
        "id": "view-in-github",
        "colab_type": "text"
      },
      "source": [
        "<a href=\"https://colab.research.google.com/github/AnuragSingh7292/Remote-sensing-image-retrieval-deep-learning-/blob/main/combine_features_vector.ipynb\" target=\"_parent\"><img src=\"https://colab.research.google.com/assets/colab-badge.svg\" alt=\"Open In Colab\"/></a>"
      ]
    },
    {
      "cell_type": "code",
      "execution_count": null,
      "metadata": {
        "colab": {
          "base_uri": "https://localhost:8080/"
        },
        "id": "FNMjtoTn8v8L",
        "outputId": "959336eb-655e-4b94-e93f-7d7eecaec6a4"
      },
      "outputs": [
        {
          "output_type": "stream",
          "name": "stdout",
          "text": [
            "Mounted at /content/drive\n"
          ]
        }
      ],
      "source": [
        "from google.colab import drive\n",
        "\n",
        "# Mount Google Drive\n",
        "drive.mount('/content/drive')\n",
        "\n",
        "# After running, follow the authentication steps\n"
      ]
    },
    {
      "cell_type": "code",
      "source": [
        "import numpy as np\n",
        "import os\n",
        "\n",
        "# Load saved features\n",
        "save_dir = \"/content/drive/MyDrive/features_vectors_ucmerced_mobileNet\"\n",
        "\n",
        "# resnet50_conv5 = np.load(os.path.join(save_dir, \"resnet50_conv5_32_features.npy\"))\n",
        "resnet50_fc6 = np.load(\"/content/drive/MyDrive/features_vectors_ucmerced_mobileNet/combined_ResNet50&101&152_ucMerced_normalised_features.npy\")\n",
        "\n",
        "# resnet101_conv5 = np.load(os.path.join(save_dir, \"resnet101_conv5_32_features.npy\"))\n",
        "resnet101_fc6 = np.load(\"/content/drive/MyDrive/Moment_features/moment_features_normalized_UM.npy\")\n",
        "\n",
        "# labels = np.load(os.path.join(save_dir, \"labels.npy\"))\n",
        "\n",
        "# Feature Fusion (Concatenation)\n",
        "# final_features_conv5 = np.concatenate((resnet50_conv5, resnet101_conv5), axis=1)  # Shape: (2100, 64)\n",
        "final_features_fc6 = np.concatenate((resnet50_fc6, resnet101_fc6), axis=1)  # Shape: (2100, 64)\n",
        "\n",
        "# Save the combined features\n",
        "# np.save(os.path.join(save_dir, \"combined_conv5_features.npy\"), final_features_conv5)\n",
        "np.save(os.path.join(save_dir, \"combined_ResNet50&101&152_momemt_ucMerced_normalised_features.npy\"), final_features_fc6)\n",
        "\n",
        "print(f\"✅ Combined features saved successfully! (Shape: (2100, 64)){final_features_fc6.shape}\")\n"
      ],
      "metadata": {
        "colab": {
          "base_uri": "https://localhost:8080/"
        },
        "id": "NKZ5yqwL8yy6",
        "outputId": "96047bfd-c2bd-4af6-bcd6-9077dca49949"
      },
      "execution_count": null,
      "outputs": [
        {
          "output_type": "stream",
          "name": "stdout",
          "text": [
            "✅ Combined features saved successfully! (Shape: (2100, 64))(2100, 135)\n"
          ]
        }
      ]
    },
    {
      "cell_type": "code",
      "source": [
        "print(final_features_fc6.shape)"
      ],
      "metadata": {
        "colab": {
          "base_uri": "https://localhost:8080/"
        },
        "id": "6pICpSTBDN1l",
        "outputId": "edd0c2e0-aac4-4d5b-c255-fc8f82992533"
      },
      "execution_count": null,
      "outputs": [
        {
          "output_type": "stream",
          "name": "stdout",
          "text": [
            "(2100, 103)\n"
          ]
        }
      ]
    },
    {
      "cell_type": "code",
      "source": [
        "import numpy as np\n",
        "from sklearn.decomposition import PCA\n",
        "\n",
        "# Load concatenated features (64 dimensions)\n",
        "save_dir = \"/content/gdrive/MyDrive/features_vectors_ucmerced_mobileNet\"\n",
        "combined_features = np.load(f\"/content/gdrive/MyDrive/features_vectors_ucmerced_mobileNet/combined_ResNet50&101&152_pattern_Net_features.npy\")  # Shape: (2100, 64)\n",
        "\n",
        "# Apply PCA to reduce to 32 dimensions\n",
        "pca = PCA(n_components=48)\n",
        "combined_features_32 = pca.fit_transform(combined_features)\n",
        "\n",
        "# Save the new 32-dimensional features\n",
        "np.save(f\"{save_dir}/combined_resNet50+101+152_fc6_48_features.npy\", combined_features_32)\n",
        "\n",
        "print(f\"✅ Combined features reduced to 32 dimensions! New shape: {combined_features_32.shape}\")\n"
      ],
      "metadata": {
        "colab": {
          "base_uri": "https://localhost:8080/"
        },
        "id": "-rFCGUOnICQM",
        "outputId": "5874de9d-0f4a-4b52-e0e4-402a23aada0e"
      },
      "execution_count": null,
      "outputs": [
        {
          "output_type": "stream",
          "name": "stdout",
          "text": [
            "✅ Combined features reduced to 32 dimensions! New shape: (30400, 48)\n"
          ]
        }
      ]
    },
    {
      "cell_type": "code",
      "source": [
        "features = np.load(r\"C:\\Users\\ADMIN\\Downloads\\combined_ResNet50&101&152_moment_pattern_Net_normalised_features.npy\")\n",
        "labels = np.load(r\"C:\\Users\\ADMIN\\Downloads\\labels152.npy\")\n",
        "# Extract first 32 features\n",
        "first_32 = features[:, :32]\n",
        "\n",
        "# Extract last 35 features\n",
        "last_71 = features[:, -71:]\n",
        "\n",
        "# Concatenate both along the feature axis (axis=1)\n",
        "combined_features = np.concatenate((first_32, last_71), axis=1)\n",
        "map_score = compute_map_memory_efficient(combined_features, labels)\n",
        "print(f\"✅ MAP for combine ResNet 50&101 : {map_score * 100:.2f}%\")"
      ],
      "metadata": {
        "id": "Y5YSxvBxYClx"
      },
      "execution_count": null,
      "outputs": []
    }
  ]
}