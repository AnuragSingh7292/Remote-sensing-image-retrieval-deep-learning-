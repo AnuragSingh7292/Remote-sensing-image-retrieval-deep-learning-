{
  "nbformat": 4,
  "nbformat_minor": 0,
  "metadata": {
    "colab": {
      "provenance": [],
      "gpuType": "T4",
      "authorship_tag": "ABX9TyPcC/G2SBFg3nbGbMUmrHsR",
      "include_colab_link": true
    },
    "kernelspec": {
      "name": "python3",
      "display_name": "Python 3"
    },
    "language_info": {
      "name": "python"
    },
    "accelerator": "GPU"
  },
  "cells": [
    {
      "cell_type": "markdown",
      "metadata": {
        "id": "view-in-github",
        "colab_type": "text"
      },
      "source": [
        "<a href=\"https://colab.research.google.com/github/AnuragSingh7292/Remote-sensing-image-retrieval-deep-learning-/blob/main/combinedModelfeatures.ipynb\" target=\"_parent\"><img src=\"https://colab.research.google.com/assets/colab-badge.svg\" alt=\"Open In Colab\"/></a>"
      ]
    },
    {
      "cell_type": "code",
      "execution_count": null,
      "metadata": {
        "colab": {
          "base_uri": "https://localhost:8080/"
        },
        "id": "MJl_vOIJ7B1e",
        "outputId": "b2ff8ec2-6934-4389-da98-c67db515f4b2"
      },
      "outputs": [
        {
          "output_type": "stream",
          "name": "stdout",
          "text": [
            "Mounted at /content/drive\n"
          ]
        }
      ],
      "source": [
        "from google.colab import drive\n",
        "\n",
        "# Mount Google Drive\n",
        "drive.mount('/content/drive')\n",
        "\n",
        "# After running, follow the authentication steps\n"
      ]
    },
    {
      "cell_type": "code",
      "source": [
        "import zipfile\n",
        "import os\n",
        "\n",
        "# Define the paths\n",
        "zip_path = \"/content/drive/MyDrive/Images.zip\"  # Update with your actual file path\n",
        "extract_path = \"/content/UC_Merced_LandUse\"  # Temporary extraction path\n",
        "\n",
        "# Extract the ZIP file\n",
        "with zipfile.ZipFile(zip_path, 'r') as zip_ref:\n",
        "    zip_ref.extractall(extract_path)\n",
        "\n",
        "# Verify extraction\n",
        "print(\"Extracted categories:\", os.listdir(extract_path))  # Should list 21 folders\n"
      ],
      "metadata": {
        "id": "zXVBfXgZ7YiR"
      },
      "execution_count": null,
      "outputs": []
    },
    {
      "cell_type": "markdown",
      "source": [
        "**Combine Model  Resnet** **50** & **101**"
      ],
      "metadata": {
        "id": "Zg7gR8Ck9sg1"
      }
    },
    {
      "cell_type": "code",
      "source": [
        "import numpy as np\n",
        "import os\n",
        "\n",
        "# Load saved features\n",
        "# save_dir = \"/content/drive/MyDrive/NewONeFeature_IFK_Vectors\"\n",
        "\n",
        "save_dir = \"/content/drive/MyDrive/resnet_features_patternNet_vectors\"   # patterns\n",
        "\n",
        "\n",
        "# resnet50_fc6 = np.load(os.path.join(save_dir, \"resnet50_fc6_32_features.npy\"))\n",
        "resnet50_fc6 = np.load(os.path.join(save_dir, \"resnet50_fc_32_patterNet_features.npy\"))\n",
        "\n",
        "\n",
        "resnet101_fc6 = np.load(os.path.join(save_dir, \"resnet101_fc6_32_patterNet_features.npy\"))\n",
        "# resnet101_fc6 = np.load(os.path.join(save_dir, \"resnet101_fc6_32_features.npy\"))\n",
        "\n",
        "# labels = np.load(os.path.join(save_dir, \"labels.npy\"))\n",
        "\n",
        "# Feature Fusion (Concatenation)\n",
        "final_features_fc6 = np.concatenate((resnet50_fc6, resnet101_fc6), axis=1)  # Shape: (2100, 64)\n",
        "\n",
        "# Save the combined features\n",
        "np.save(os.path.join(save_dir, \"combined_50&101_fc6_64_features.npy\"), final_features_fc6)\n",
        "print(final_features_fc6.shape)\n",
        "\n",
        "print(\"✅ Combined features saved successfully! (Shape: (2100, 64))\")\n"
      ],
      "metadata": {
        "colab": {
          "base_uri": "https://localhost:8080/"
        },
        "id": "bWGZKMJ27aSr",
        "outputId": "aaef84fa-b02d-44b3-d524-90d393efe614"
      },
      "execution_count": null,
      "outputs": [
        {
          "output_type": "stream",
          "name": "stdout",
          "text": [
            "(30400, 64)\n",
            "✅ Combined features saved successfully! (Shape: (2100, 64))\n"
          ]
        }
      ]
    },
    {
      "cell_type": "markdown",
      "source": [
        "converting dim 64 to  32 (50&101)"
      ],
      "metadata": {
        "id": "32_kbWoZAHGD"
      }
    },
    {
      "cell_type": "code",
      "source": [
        "import numpy as np\n",
        "from sklearn.decomposition import PCA\n",
        "\n",
        "# Load concatenated features (64 dimensions)\n",
        "# save_dir = \"/content/drive/MyDrive/NewONeFeature_IFK_Vectors\"\n",
        "\n",
        "# combined_features = np.load(f\"{save_dir}/combined_fc6_features.npy\")  # Shape: (2100, 64)\n",
        "\n",
        "combined_features = np.load(\"/content/drive/MyDrive/resnet_features_patternNet_vectors/combined_50&101_fc6_64_features.npy\")\n",
        "\n",
        "# Apply PCA to reduce to 32 dimensions\n",
        "pca = PCA(n_components=32)\n",
        "combined_50_101_features_32 = pca.fit_transform(combined_features)\n",
        "\n",
        "# Save the new 32-dimensional features\n",
        "np.save(f\"{save_dir}/combined_50&101_fc6_32_features.npy\",combined_50_101_features_32)\n",
        "\n",
        "print(f\"✅ Combined features reduced to 32 dimensions! New shape: {combined_50_101_features_32.shape}\")\n"
      ],
      "metadata": {
        "colab": {
          "base_uri": "https://localhost:8080/"
        },
        "id": "1Mg7MUW1BR3h",
        "outputId": "c02b9783-dfce-4682-fa49-da82f99509dc"
      },
      "execution_count": null,
      "outputs": [
        {
          "output_type": "stream",
          "name": "stdout",
          "text": [
            "✅ Combined features reduced to 32 dimensions! New shape: (30400, 32)\n"
          ]
        }
      ]
    },
    {
      "cell_type": "markdown",
      "source": [
        "**Combine Model Resnet 50 & 152**"
      ],
      "metadata": {
        "id": "6UJd9Tl2958A"
      }
    },
    {
      "cell_type": "code",
      "source": [
        "import numpy as np\n",
        "import os\n",
        "\n",
        "# Load saved features\n",
        "# save_dir = \"/content/drive/MyDrive/NewONeFeature_IFK_Vectors\"\n",
        "\n",
        "save_dir = \"/content/drive/MyDrive/resnet_features_patternNet_vectors\"   # patterns\n",
        "\n",
        "\n",
        "# resnet50_fc6 = np.load(os.path.join(save_dir, \"resnet50_fc6_32_features.npy\"))\n",
        "\n",
        "resnet50_fc6 = np.load(os.path.join(save_dir, \"resnet50_fc_32_patterNet_features.npy\"))\n",
        "\n",
        "\n",
        "# resnet152_fc6 = np.load(os.path.join(save_dir, \"resnet152_fc6_32_features.npy\"))\n",
        "\n",
        "resnet152_fc6 = np.load(os.path.join(save_dir, \"resnet152_fc6_32_patterNet_features.npy\"))\n",
        "\n",
        "\n",
        "# labels = np.load(os.path.join(save_dir, \"labels.npy\"))\n",
        "\n",
        "# Feature Fusion (Concatenation)\n",
        "\n",
        "final_features_fc6 = np.concatenate((resnet50_fc6, resnet152_fc6), axis=1)  # Shape: (2100, 64)\n",
        "\n",
        "# Save the combined features\n",
        "np.save(os.path.join(save_dir, \"combined_50&152_fc6_64_features.npy\"), final_features_fc6)\n",
        "print(final_features_fc6.shape)\n",
        "print(\"✅ Combined features saved successfully! (Shape: (2100, 64))\")\n"
      ],
      "metadata": {
        "colab": {
          "base_uri": "https://localhost:8080/"
        },
        "id": "3NIFaSCI-IPs",
        "outputId": "ddaa9ad2-52ab-448c-fa0c-4ac36c5926b9"
      },
      "execution_count": null,
      "outputs": [
        {
          "output_type": "stream",
          "name": "stdout",
          "text": [
            "(30400, 64)\n",
            "✅ Combined features saved successfully! (Shape: (2100, 64))\n"
          ]
        }
      ]
    },
    {
      "cell_type": "markdown",
      "source": [
        "converting dim 64 to 32 (50&152)"
      ],
      "metadata": {
        "id": "XlKQUUM7B2hZ"
      }
    },
    {
      "cell_type": "code",
      "source": [
        "import numpy as np\n",
        "from sklearn.decomposition import PCA\n",
        "\n",
        "# Load concatenated features (64 dimensions)\n",
        "# save_dir = \"/content/drive/MyDrive/NewONeFeature_IFK_Vectors\"\n",
        "# combined_features = np.load(f\"{save_dir}/combined_50&152_fc6_features.npy\")  # Shape: (2100, 64)\n",
        "\n",
        "combined_features = np.load(\"/content/drive/MyDrive/resnet_features_patternNet_vectors/combined_50&152_fc6_64_features.npy\")  # Shape: (2100, 64)\n",
        "\n",
        "\n",
        "# Apply PCA to reduce to 32 dimensions\n",
        "pca = PCA(n_components=32)\n",
        "combined_50_152_features_32 = pca.fit_transform(combined_features)\n",
        "\n",
        "# Save the new 32-dimensional features\n",
        "np.save(f\"{save_dir}/combined_50&152_fc6_32_features.npy\",combined_50_152_features_32)\n",
        "\n",
        "print(f\"✅ Combined features reduced to 32 dimensions! New shape: {combined_50_152_features_32.shape}\")\n"
      ],
      "metadata": {
        "colab": {
          "base_uri": "https://localhost:8080/"
        },
        "id": "WewJhxEfB7nD",
        "outputId": "0bb7b649-13b1-4b50-8838-7afe7a098359"
      },
      "execution_count": null,
      "outputs": [
        {
          "output_type": "stream",
          "name": "stdout",
          "text": [
            "✅ Combined features reduced to 32 dimensions! New shape: (30400, 32)\n"
          ]
        }
      ]
    },
    {
      "cell_type": "markdown",
      "source": [
        "**Combine Model Resnet 101 & 152**\n",
        "\n",
        "\n"
      ],
      "metadata": {
        "id": "Et7mVHKV-2dg"
      }
    },
    {
      "cell_type": "code",
      "source": [
        "import numpy as np\n",
        "import os\n",
        "\n",
        "# Load saved features\n",
        "# save_dir = \"/content/drive/MyDrive/NewONeFeature_IFK_Vectors\"\n",
        "\n",
        "save_dir = \"/content/drive/MyDrive/resnet_features_patternNet_vectors\"   # patterns\n",
        "\n",
        "\n",
        "# resnet101_fc6 = np.load(os.path.join(save_dir, \"resnet101_fc6_32_features.npy\"))\n",
        "resnet101_fc6 = np.load(os.path.join(save_dir, \"resnet101_fc6_32_patterNet_features.npy\"))\n",
        "\n",
        "\n",
        "# resnet152_fc6 = np.load(os.path.join(save_dir, \"resnet152_fc6_32_features.npy\"))\n",
        "resnet152_fc6 = np.load(os.path.join(save_dir, \"resnet152_fc6_32_patterNet_features.npy\"))\n",
        "\n",
        "\n",
        "# labels = np.load(os.path.join(save_dir, \"labels.npy\"))\n",
        "\n",
        "# Feature Fusion (Concatenation)\n",
        "\n",
        "final_features_fc6 = np.concatenate((resnet101_fc6, resnet152_fc6), axis=1)  # Shape: (2100, 64)\n",
        "\n",
        "# Save the combined features\n",
        "np.save(os.path.join(save_dir, \"combined_101&152_fc6_64_features.npy\"), final_features_fc6)\n",
        "\n",
        "print(final_features_fc6.shape)\n",
        "\n",
        "print(\"✅ Combined features saved successfully! (Shape: (2100, 64))\")\n"
      ],
      "metadata": {
        "colab": {
          "base_uri": "https://localhost:8080/"
        },
        "id": "XlnLGh5q_OJc",
        "outputId": "ffd36c68-4a1f-4310-d4ad-761df7f6aeb1"
      },
      "execution_count": null,
      "outputs": [
        {
          "output_type": "stream",
          "name": "stdout",
          "text": [
            "(30400, 64)\n",
            "✅ Combined features saved successfully! (Shape: (2100, 64))\n"
          ]
        }
      ]
    },
    {
      "cell_type": "markdown",
      "source": [
        "converting dim 64 to 32 (101&152)"
      ],
      "metadata": {
        "id": "zjxLohWLCHKf"
      }
    },
    {
      "cell_type": "code",
      "source": [
        "import numpy as np\n",
        "from sklearn.decomposition import PCA\n",
        "\n",
        "# Load concatenated features (64 dimensions)\n",
        "# save_dir = \"/content/drive/MyDrive/NewONeFeature_IFK_Vectors\"\n",
        "# combined_features = np.load(f\"{save_dir}/combined_101&152_fc6_features.npy\")  # Shape: (2100, 64)\n",
        "\n",
        "combined_features = np.load(\"/content/drive/MyDrive/resnet_features_patternNet_vectors/combined_101&152_fc6_64_features.npy\")  # Shape: (2100, 64)\n",
        "\n",
        "\n",
        "# Apply PCA to reduce to 32 dimensions\n",
        "pca = PCA(n_components=32)\n",
        "combined_101_152_features_32 = pca.fit_transform(combined_features)\n",
        "\n",
        "# Save the new 32-dimensional features\n",
        "np.save(f\"{save_dir}/combined_101&152_fc6_32_features.npy\",combined_101_152_features_32)\n",
        "\n",
        "print(f\"✅ Combined features reduced to 32 dimensions! New shape: {combined_101_152_features_32.shape}\")\n"
      ],
      "metadata": {
        "colab": {
          "base_uri": "https://localhost:8080/"
        },
        "id": "8gCPiTIPCK8c",
        "outputId": "c0b70093-6d58-4745-ad2b-5508254a9e24"
      },
      "execution_count": null,
      "outputs": [
        {
          "output_type": "stream",
          "name": "stdout",
          "text": [
            "✅ Combined features reduced to 32 dimensions! New shape: (30400, 32)\n"
          ]
        }
      ]
    },
    {
      "cell_type": "markdown",
      "source": [
        "**Combine Model VGG 16&19`**"
      ],
      "metadata": {
        "id": "emePQga36_wy"
      }
    },
    {
      "cell_type": "code",
      "source": [
        "import numpy as np\n",
        "import os\n",
        "\n",
        "# Load saved features\n",
        "save_dir = \"/content/drive/MyDrive/NewONeFeature_VGG_Vectors\"\n",
        "\n",
        "vgg16_fc6 = np.load(os.path.join(save_dir, \"vgg16_fc6_32_features.npy\"))\n",
        "\n",
        "vgg19_fc6 = np.load(os.path.join(save_dir, \"vgg19_fc6_32_features.npy\"))\n",
        "\n",
        "# labels = np.load(os.path.join(save_dir, \"labels.npy\"))\n",
        "\n",
        "# Feature Fusion (Concatenation)\n",
        "\n",
        "final_features_fc6 = np.concatenate((vgg16_fc6, vgg19_fc6), axis=1)  # Shape: (2100, 64)\n",
        "\n",
        "# Save the combined features\n",
        "np.save(os.path.join(save_dir, \"combined_vgg16&19_fc6_features.npy\"), final_features_fc6)\n",
        "\n",
        "print(\"✅ Combined features saved successfully! (Shape: (2100, 64))\", final_features_fc6.shape)\n"
      ],
      "metadata": {
        "colab": {
          "base_uri": "https://localhost:8080/"
        },
        "id": "yXwZRacv7DSC",
        "outputId": "58e56c12-f7d6-4385-a12d-e06c1ab24937"
      },
      "execution_count": null,
      "outputs": [
        {
          "output_type": "stream",
          "name": "stdout",
          "text": [
            "✅ Combined features saved successfully! (Shape: (2100, 64)) (2100, 64)\n"
          ]
        }
      ]
    },
    {
      "cell_type": "markdown",
      "source": [
        "**converting dim 64 to 32 (16&19)**"
      ],
      "metadata": {
        "id": "8Uk-_vpd7bPu"
      }
    },
    {
      "cell_type": "code",
      "source": [
        "import numpy as np\n",
        "from sklearn.decomposition import PCA\n",
        "\n",
        "# Load concatenated features (64 dimensions)\n",
        "save_dir = \"/content/drive/MyDrive/NewONeFeature_VGG_Vectors\"\n",
        "combined_features = np.load(f\"{save_dir}/combined_vgg16&19_fc6_features.npy\")  # Shape: (2100, 64)\n",
        "\n",
        "# Apply PCA to reduce to 32 dimensions\n",
        "pca = PCA(n_components=32)\n",
        "combined_16_19_features_32 = pca.fit_transform(combined_features)\n",
        "\n",
        "# Save the new 32-dimensional features\n",
        "np.save(f\"{save_dir}/combined_16&19_fc6_32_features.npy\",combined_16_19_features_32)\n",
        "\n",
        "print(f\"✅ Combined features reduced to 32 dimensions! New shape: {combined_16_19_features_32.shape}\")\n"
      ],
      "metadata": {
        "id": "a0BNw-iN7bww",
        "colab": {
          "base_uri": "https://localhost:8080/"
        },
        "outputId": "05efc399-1f13-4570-b6bc-df3e58acd9f1"
      },
      "execution_count": null,
      "outputs": [
        {
          "output_type": "stream",
          "name": "stdout",
          "text": [
            "✅ Combined features reduced to 32 dimensions! New shape: (2100, 32)\n"
          ]
        }
      ]
    }
  ]
}