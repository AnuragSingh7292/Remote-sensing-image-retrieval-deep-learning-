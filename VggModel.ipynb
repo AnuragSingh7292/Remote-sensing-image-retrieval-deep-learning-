{
  "nbformat": 4,
  "nbformat_minor": 0,
  "metadata": {
    "colab": {
      "provenance": [],
      "gpuType": "T4",
      "authorship_tag": "ABX9TyO/Cs8+X4Bxvr20EFjyUo9G",
      "include_colab_link": true
    },
    "kernelspec": {
      "name": "python3",
      "display_name": "Python 3"
    },
    "language_info": {
      "name": "python"
    },
    "accelerator": "GPU"
  },
  "cells": [
    {
      "cell_type": "markdown",
      "metadata": {
        "id": "view-in-github",
        "colab_type": "text"
      },
      "source": [
        "<a href=\"https://colab.research.google.com/github/AnuragSingh7292/Remote-sensing-image-retrieval-deep-learning-/blob/main/VggModel.ipynb\" target=\"_parent\"><img src=\"https://colab.research.google.com/assets/colab-badge.svg\" alt=\"Open In Colab\"/></a>"
      ]
    },
    {
      "cell_type": "code",
      "execution_count": null,
      "metadata": {
        "colab": {
          "base_uri": "https://localhost:8080/"
        },
        "id": "iErkZBmjCV6s",
        "outputId": "de4d94a8-7a10-4555-fec9-1039e56dbf75"
      },
      "outputs": [
        {
          "output_type": "stream",
          "name": "stdout",
          "text": [
            "Mounted at /content/drive\n"
          ]
        }
      ],
      "source": [
        "from google.colab import drive\n",
        "\n",
        "# Mount Google Drive\n",
        "drive.mount('/content/drive')\n",
        "\n",
        "# After running, follow the authentication steps\n"
      ]
    },
    {
      "cell_type": "code",
      "source": [
        "import zipfile\n",
        "import os\n",
        "\n",
        "# Define the paths\n",
        "zip_path = \"/content/drive/MyDrive/Images.zip\"  # Update with your actual file path\n",
        "extract_path = \"/content/UC_Merced_LandUse\"  # Temporary extraction path\n",
        "\n",
        "# Extract the ZIP file\n",
        "with zipfile.ZipFile(zip_path, 'r') as zip_ref:\n",
        "    zip_ref.extractall(extract_path)\n",
        "\n",
        "# Verify extraction\n",
        "print(\"Extracted categories:\", os.listdir(extract_path))  # Should list 21 folders\n"
      ],
      "metadata": {
        "colab": {
          "base_uri": "https://localhost:8080/"
        },
        "id": "nsa99y9XICno",
        "outputId": "aa46b6c4-c737-43ae-ca19-af39b83db9cd"
      },
      "execution_count": null,
      "outputs": [
        {
          "output_type": "stream",
          "name": "stdout",
          "text": [
            "Extracted categories: ['Images']\n"
          ]
        }
      ]
    },
    {
      "cell_type": "markdown",
      "source": [
        "Extracting the features using this Vgg 16 and 19 with PCA 32 dim"
      ],
      "metadata": {
        "id": "pDLL1RIsCnrB"
      }
    },
    {
      "cell_type": "code",
      "source": [
        "import os\n",
        "import numpy as np\n",
        "import tensorflow as tf\n",
        "from tensorflow.keras.applications import VGG16, VGG19\n",
        "from tensorflow.keras.preprocessing import image\n",
        "from tensorflow.keras.applications.vgg16 import preprocess_input as preprocess_vgg16\n",
        "from tensorflow.keras.applications.vgg19 import preprocess_input as preprocess_vgg19\n",
        "from sklearn.decomposition import PCA\n",
        "\n",
        "# Dataset path\n",
        "dataset_path = \"/content/UC_Merced_LandUse/Images\"\n",
        "save_dir = \"/content/drive/MyDrive/NewONeFeature_VGG_Vectors\"\n",
        "os.makedirs(save_dir, exist_ok=True)\n",
        "\n",
        "# Load VGG16 and VGG19 models with pre-trained weights\n",
        "vgg16_model = VGG16(weights='imagenet', include_top=True)\n",
        "vgg19_model = VGG19(weights='imagenet', include_top=True)\n",
        "\n",
        "# Extract FC6 layer ('fc1')\n",
        "vgg16_fc6_layer = tf.keras.Model(inputs=vgg16_model.input,\n",
        "                                 outputs=vgg16_model.get_layer('fc1').output)\n",
        "vgg19_fc6_layer = tf.keras.Model(inputs=vgg19_model.input,\n",
        "                                 outputs=vgg19_model.get_layer('fc1').output)\n",
        "\n",
        "# Function to extract features\n",
        "def extract_features(model, img_path, preprocess_func, target_size=(224, 224)):\n",
        "    img = image.load_img(img_path, target_size=target_size)\n",
        "    img_array = image.img_to_array(img)\n",
        "    img_array = np.expand_dims(img_array, axis=0)\n",
        "    img_array = preprocess_func(img_array)\n",
        "    features = model.predict(img_array, verbose=0)\n",
        "    return features.flatten()\n",
        "\n",
        "# Storage lists\n",
        "vgg16_fc6_features, vgg19_fc6_features, labels = [], [], []\n",
        "\n",
        "# Read images and extract features\n",
        "categories = sorted(os.listdir(dataset_path))\n",
        "for idx, category in enumerate(categories):\n",
        "    category_path = os.path.join(dataset_path, category)\n",
        "    if os.path.isdir(category_path):\n",
        "        for img_file in os.listdir(category_path):\n",
        "            if img_file.lower().endswith(('.jpg', '.png', '.tif')):\n",
        "                img_path = os.path.join(category_path, img_file)\n",
        "\n",
        "                vgg16_fc6_feat = extract_features(vgg16_fc6_layer, img_path, preprocess_vgg16)\n",
        "                vgg19_fc6_feat = extract_features(vgg19_fc6_layer, img_path, preprocess_vgg19)\n",
        "\n",
        "                vgg16_fc6_features.append(vgg16_fc6_feat)\n",
        "                vgg19_fc6_features.append(vgg19_fc6_feat)\n",
        "                labels.append(idx)\n",
        "\n",
        "# Convert lists to arrays\n",
        "vgg16_fc6_features = np.array(vgg16_fc6_features)\n",
        "vgg19_fc6_features = np.array(vgg19_fc6_features)\n",
        "\n",
        "np.save(os.path.join(save_dir, \"vgg16_fc6_features.npy\"), vgg16_fc6_features)\n",
        "np.save(os.path.join(save_dir, \"vgg19_fc6_features.npy\"), vgg19_fc6_features)\n",
        "\n",
        "# Apply PCA to reduce to (2100, 32)\n",
        "pca_vgg16_fc6 = PCA(n_components=32)\n",
        "vgg16_fc6_reduced = pca_vgg16_fc6.fit_transform(vgg16_fc6_features)\n",
        "\n",
        "pca_vgg19_fc6 = PCA(n_components=32)\n",
        "vgg19_fc6_reduced = pca_vgg19_fc6.fit_transform(vgg19_fc6_features)\n",
        "\n",
        "# Save reduced features\n",
        "np.save(os.path.join(save_dir, \"vgg16_fc6_32_features.npy\"), vgg16_fc6_reduced)\n",
        "np.save(os.path.join(save_dir, \"vgg19_fc6_32_features.npy\"), vgg19_fc6_reduced)\n",
        "np.save(os.path.join(save_dir, \"labels.npy\"), labels)\n",
        "\n",
        "print(\"✅ FC6 features extracted and saved successfully for VGG16 & VGG19! (Shape: (2100, 32))\")\n"
      ],
      "metadata": {
        "colab": {
          "base_uri": "https://localhost:8080/"
        },
        "id": "I54rWVOtCfSu",
        "outputId": "3c295769-615a-42b7-f3ed-1c4fb714780c"
      },
      "execution_count": null,
      "outputs": [
        {
          "output_type": "stream",
          "name": "stdout",
          "text": [
            "Downloading data from https://storage.googleapis.com/tensorflow/keras-applications/vgg16/vgg16_weights_tf_dim_ordering_tf_kernels.h5\n",
            "\u001b[1m553467096/553467096\u001b[0m \u001b[32m━━━━━━━━━━━━━━━━━━━━\u001b[0m\u001b[37m\u001b[0m \u001b[1m14s\u001b[0m 0us/step\n",
            "Downloading data from https://storage.googleapis.com/tensorflow/keras-applications/vgg19/vgg19_weights_tf_dim_ordering_tf_kernels.h5\n",
            "\u001b[1m574710816/574710816\u001b[0m \u001b[32m━━━━━━━━━━━━━━━━━━━━\u001b[0m\u001b[37m\u001b[0m \u001b[1m14s\u001b[0m 0us/step\n",
            "✅ FC6 features extracted and saved successfully for VGG16 & VGG19! (Shape: (2100, 32))\n"
          ]
        }
      ]
    },
    {
      "cell_type": "code",
      "source": [
        "print(vgg16_fc6_features.shape)\n",
        "print(vgg19_fc6_features.shape)\n",
        "\n",
        "print(vgg16_fc6_reduced.shape)\n",
        "print(vgg19_fc6_reduced.shape)"
      ],
      "metadata": {
        "colab": {
          "base_uri": "https://localhost:8080/"
        },
        "id": "qn-9-69MOyLQ",
        "outputId": "72156232-4a54-47df-ed4c-dc6d75284099"
      },
      "execution_count": null,
      "outputs": [
        {
          "output_type": "stream",
          "name": "stdout",
          "text": [
            "(2100, 4096)\n",
            "(2100, 4096)\n",
            "(2100, 32)\n",
            "(2100, 32)\n"
          ]
        }
      ]
    }
  ]
}