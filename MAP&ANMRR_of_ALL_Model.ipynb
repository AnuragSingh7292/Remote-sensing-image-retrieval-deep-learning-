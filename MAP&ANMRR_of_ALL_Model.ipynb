{
  "nbformat": 4,
  "nbformat_minor": 0,
  "metadata": {
    "colab": {
      "provenance": [],
      "authorship_tag": "ABX9TyOsfCKw+morRQ5A7+AVQS5J",
      "include_colab_link": true
    },
    "kernelspec": {
      "name": "python3",
      "display_name": "Python 3"
    },
    "language_info": {
      "name": "python"
    }
  },
  "cells": [
    {
      "cell_type": "markdown",
      "metadata": {
        "id": "view-in-github",
        "colab_type": "text"
      },
      "source": [
        "<a href=\"https://colab.research.google.com/github/AnuragSingh7292/Remote-sensing-image-retrieval-deep-learning-/blob/main/MAP%26ANMRR_of_ALL_Model.ipynb\" target=\"_parent\"><img src=\"https://colab.research.google.com/assets/colab-badge.svg\" alt=\"Open In Colab\"/></a>"
      ]
    },
    {
      "cell_type": "markdown",
      "source": [],
      "metadata": {
        "id": "-FJSeOYYvp3v"
      }
    },
    {
      "cell_type": "code",
      "execution_count": null,
      "metadata": {
        "colab": {
          "base_uri": "https://localhost:8080/"
        },
        "id": "StWsymS5vpBF",
        "outputId": "cc5f23b1-d6f7-4776-9d61-a7286c5a4edb"
      },
      "outputs": [
        {
          "output_type": "stream",
          "name": "stdout",
          "text": [
            "Drive already mounted at /content/drive; to attempt to forcibly remount, call drive.mount(\"/content/drive\", force_remount=True).\n"
          ]
        }
      ],
      "source": [
        "from google.colab import drive\n",
        "\n",
        "# Mount Google Drive\n",
        "drive.mount('/content/drive')\n",
        "\n",
        "# After running, follow the authentication steps\n"
      ]
    },
    {
      "cell_type": "markdown",
      "source": [
        "MAP"
      ],
      "metadata": {
        "id": "ao8paXXGv7o_"
      }
    },
    {
      "cell_type": "code",
      "source": [
        "import numpy as np\n",
        "from sklearn.metrics.pairwise import cosine_similarity\n",
        "\n",
        "# Load extracted features and labels for VGG16\n",
        "# save_dir = \"/content/drive/MyDrive/NewONeFeature_IFK_Vectors\"\n",
        "# save_dir = \"/content/drive/MyDrive/NewONeFeature_VGG_Vectors\"\n",
        "# save_dir = \"/content/drive/MyDrive/NewONeFeature_PCA_PrePro_Vectors\"\n",
        "# save_dir = \"/content/drive/MyDrive/Feature_Vectors_mobileNet_patternNet\"\n",
        "save_dir = \"/content/drive/MyDrive/inception_Feature_Vectors_patternNet\"\n",
        "\n",
        "\n",
        "\n",
        "# save_dir = \"/content/drive/MyDrive/resnet_features_patternNet_vectors\"\n",
        "\n",
        "features = np.load(f\"{save_dir}/inceptionv3_fc6_32_ucmerced_features.npy\")\n",
        "labels = np.load(f\"{save_dir}/labelsucmerced.npy\")\n",
        "\n",
        "# Compute Mean Average Precision (MAP)\n",
        "def compute_map(features, labels):\n",
        "    num_images = features.shape[0]\n",
        "    similarity_matrix = cosine_similarity(features)  # Compute cosine similarity\n",
        "    average_precisions = []\n",
        "\n",
        "    for i in range(num_images):\n",
        "        query_label = labels[i]\n",
        "        similarities = similarity_matrix[i]\n",
        "\n",
        "        # Sort images by similarity (descending order) and exclude self-match\n",
        "        sorted_indices = np.argsort(-similarities)\n",
        "        sorted_indices = sorted_indices[sorted_indices != i]  # Remove self-\n",
        "        # sorted_indices = np.delete(sorted_indices, np.where(sorted_indices == i))  # More robust\n",
        "        sorted_labels = labels[sorted_indices]\n",
        "\n",
        "        # Compute relevance scores (1 if label matches, else 0)\n",
        "        relevant_items = (sorted_labels == query_label).astype(int)\n",
        "        num_relevant = np.sum(relevant_items)\n",
        "\n",
        "        # If no relevant items exist, AP is 0\n",
        "        if num_relevant == 0:\n",
        "            average_precisions.append(0)\n",
        "            continue\n",
        "\n",
        "        # Compute precision at each rank\n",
        "        cumulative_relevance = np.cumsum(relevant_items)\n",
        "        precision_at_k = cumulative_relevance / (np.arange(len(relevant_items)) + 1)\n",
        "\n",
        "        # Compute Average Precision (AP)\n",
        "        average_precision = np.sum(precision_at_k * relevant_items) / num_relevant\n",
        "        average_precisions.append(average_precision)\n",
        "\n",
        "    # Compute Mean Average Precision (MAP)\n",
        "    mean_average_precision = np.mean(average_precisions)\n",
        "    return mean_average_precision\n",
        "\n",
        "# Compute and print MAP for VGG16\n",
        "map_score = compute_map(features, labels)\n",
        "print(f\"✅ MAP for combine ResNet 50&101 : {map_score * 100:.2f}%\")  # Convert to percentage\n"
      ],
      "metadata": {
        "colab": {
          "base_uri": "https://localhost:8080/"
        },
        "id": "y1kR0FehvtLE",
        "outputId": "45dcf3ac-025b-46c1-b2d4-f147b7dbe393"
      },
      "execution_count": null,
      "outputs": [
        {
          "output_type": "stream",
          "name": "stdout",
          "text": [
            "✅ MAP for combine ResNet 50&101 : 56.62%\n"
          ]
        }
      ]
    },
    {
      "cell_type": "markdown",
      "source": [
        "ANMRR"
      ],
      "metadata": {
        "id": "Hs2KQdn5v6Rm"
      }
    },
    {
      "cell_type": "code",
      "source": [
        "import numpy as np\n",
        "from scipy.spatial.distance import cdist\n",
        "\n",
        "def compute_anmrr(labels, distance_matrix):\n",
        "    num_images = len(labels)\n",
        "    anmrr_values = []\n",
        "\n",
        "    for i in range(num_images):\n",
        "        # Sort indices based on distance (ascending order)\n",
        "        sorted_indices = np.argsort(distance_matrix[i])\n",
        "        sorted_indices = sorted_indices[sorted_indices != i]  # Exclude self-match\n",
        "\n",
        "        # Retrieve the sorted labels\n",
        "        sorted_labels = labels[sorted_indices]\n",
        "\n",
        "        # Identify relevant items\n",
        "        relevant_items = (sorted_labels == labels[i])\n",
        "        num_relevant = np.sum(relevant_items)\n",
        "\n",
        "        if num_relevant == 0:\n",
        "            anmrr_values.append(1)  # Worst case if no relevant images found\n",
        "            continue\n",
        "\n",
        "        # Compute rank positions of relevant items\n",
        "        rank_positions = np.where(relevant_items)[0] + 1  # Convert to 1-based indexing\n",
        "\n",
        "        # Compute Modified Retrieval Rank (MRR)\n",
        "        mrr = np.sum(rank_positions) / num_relevant\n",
        "\n",
        "        # Compute Normalized Modified Retrieval Rank (NMRR)\n",
        "        # K = min(2 * num_relevant, num_images)  # Dynamic cut-off based on relevant items\n",
        "        K = num_images  # Since we are considering all images\n",
        "        nmrr = (mrr - 0.5 * (1 + num_relevant)) / (1.25 * K - 0.5 * (1 + num_relevant))\n",
        "\n",
        "        anmrr_values.append(nmrr)\n",
        "\n",
        "    # Mean of NMRR values\n",
        "    anmrr = np.mean(anmrr_values)\n",
        "    return anmrr\n",
        "\n",
        "\n",
        "# Compute and print ANMRR for each model (all images)\n",
        "\n",
        "features = np.load(f\"/content/drive/MyDrive/inception_Feature_Vectors_patternNet/inceptionv3_fc6_32_ucmerced_features.npy\")\n",
        "labels = np.load(f\"/content/drive/MyDrive/inception_Feature_Vectors_patternNet/labelsucmerced.npy\")\n",
        "\n",
        "# Compute distance matrix efficiently using cdist (Euclidean distance)\n",
        "distance_matrix = cdist(features, features, metric='euclidean')\n",
        "\n",
        "# Compute ANMRR for all images\n",
        "anmrr_score = compute_anmrr(labels, distance_matrix)\n",
        "print(f\"ANMRR for combine  ResNet 50&101 : {anmrr_score:.4f}\")\n"
      ],
      "metadata": {
        "colab": {
          "base_uri": "https://localhost:8080/"
        },
        "id": "v134gZ3dv5CF",
        "outputId": "dcca79d7-d52a-4c26-bc49-37ca6f9eb11c"
      },
      "execution_count": null,
      "outputs": [
        {
          "output_type": "stream",
          "name": "stdout",
          "text": [
            "ANMRR for combine  ResNet 50&101 : 0.0778\n"
          ]
        }
      ]
    }
  ]
}